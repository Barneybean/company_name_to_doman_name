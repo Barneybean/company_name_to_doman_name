{
 "cells": [
  {
   "cell_type": "code",
   "execution_count": 296,
   "metadata": {},
   "outputs": [],
   "source": [
    "!pip install clearbit"
   ]
  },
  {
   "cell_type": "code",
   "execution_count": 427,
   "metadata": {},
   "outputs": [],
   "source": [
    "import pandas as pd\n",
    "import re\n",
    "import clearbit #API to get company domain names, it can be used as people search, email search extra\n",
    "#https://dashboard.clearbit.com/docs?python#enrichment-api-company-api\n",
    "\n",
    "#create csv and test\n",
    "# name = pandas.DataFrame(data={\"company_name\": [\"google\", \"linkedin\", \"Visctoria's Secret\"]})\n",
    "# name.to_csv(\"./company_name.csv\", sep=',',index=False)"
   ]
  },
  {
   "cell_type": "code",
   "execution_count": 428,
   "metadata": {},
   "outputs": [
    {
     "data": {
      "text/html": [
       "<div>\n",
       "<style scoped>\n",
       "    .dataframe tbody tr th:only-of-type {\n",
       "        vertical-align: middle;\n",
       "    }\n",
       "\n",
       "    .dataframe tbody tr th {\n",
       "        vertical-align: top;\n",
       "    }\n",
       "\n",
       "    .dataframe thead th {\n",
       "        text-align: right;\n",
       "    }\n",
       "</style>\n",
       "<table border=\"1\" class=\"dataframe\">\n",
       "  <thead>\n",
       "    <tr style=\"text-align: right;\">\n",
       "      <th></th>\n",
       "      <th>company_name</th>\n",
       "    </tr>\n",
       "  </thead>\n",
       "  <tbody>\n",
       "    <tr>\n",
       "      <th>0</th>\n",
       "      <td>google</td>\n",
       "    </tr>\n",
       "    <tr>\n",
       "      <th>1</th>\n",
       "      <td>linkedin</td>\n",
       "    </tr>\n",
       "    <tr>\n",
       "      <th>2</th>\n",
       "      <td>Victoria's Secret</td>\n",
       "    </tr>\n",
       "    <tr>\n",
       "      <th>3</th>\n",
       "      <td>wholefoods</td>\n",
       "    </tr>\n",
       "    <tr>\n",
       "      <th>4</th>\n",
       "      <td>Procter &amp; Gamble</td>\n",
       "    </tr>\n",
       "    <tr>\n",
       "      <th>5</th>\n",
       "      <td>Apple</td>\n",
       "    </tr>\n",
       "    <tr>\n",
       "      <th>6</th>\n",
       "      <td>eaton</td>\n",
       "    </tr>\n",
       "    <tr>\n",
       "      <th>7</th>\n",
       "      <td>ucdavis</td>\n",
       "    </tr>\n",
       "    <tr>\n",
       "      <th>8</th>\n",
       "      <td>boring company</td>\n",
       "    </tr>\n",
       "    <tr>\n",
       "      <th>9</th>\n",
       "      <td>tesla inc</td>\n",
       "    </tr>\n",
       "    <tr>\n",
       "      <th>10</th>\n",
       "      <td>Tiffany.co</td>\n",
       "    </tr>\n",
       "  </tbody>\n",
       "</table>\n",
       "</div>"
      ],
      "text/plain": [
       "         company_name\n",
       "0              google\n",
       "1            linkedin\n",
       "2   Victoria's Secret\n",
       "3         wholefoods \n",
       "4    Procter & Gamble\n",
       "5               Apple\n",
       "6               eaton\n",
       "7             ucdavis\n",
       "8      boring company\n",
       "9           tesla inc\n",
       "10         Tiffany.co"
      ]
     },
     "execution_count": 428,
     "metadata": {},
     "output_type": "execute_result"
    }
   ],
   "source": [
    "#read csv: make sure there is a company name column in the data frame in string \n",
    "input_df = pd.read_csv(\"company_name.csv\")\n",
    "input_df"
   ]
  },
  {
   "cell_type": "code",
   "execution_count": 429,
   "metadata": {},
   "outputs": [],
   "source": [
    "clearbit.key = 'Your API Key' #person API key do not share\n",
    "#to get personal API Key, go to     dashboard.clearbit.com"
   ]
  },
  {
   "cell_type": "code",
   "execution_count": 430,
   "metadata": {},
   "outputs": [],
   "source": [
    "\n",
    "def get_domain_name(name):\n",
    "    #preocess search string\n",
    "    name = re.sub(\"inc|INC|Inc|/.co|/.Co|LLP|llp|LLC|llc\", \"\", name.lower())\n",
    "    name = re.sub(\"&\", \"and\", name.lower())\n",
    "    name = re.sub(\"#|'|-|^|$|@|!|~|\\.|\\*\", \"\", name.lower())\n",
    "    #call API and retrive result\n",
    "    try:\n",
    "        result = clearbit.Company.find(domain =name+'.com', stream=True)\n",
    "        if company != None:\n",
    "            return result['domain']\n",
    "        else: \n",
    "            return \"-\"\n",
    "    #error handling for incorrect company names \n",
    "    except:\n",
    "        return \"check name\"\n"
   ]
  },
  {
   "cell_type": "code",
   "execution_count": 431,
   "metadata": {},
   "outputs": [
    {
     "data": {
      "text/plain": [
       "0               google.com\n",
       "1             linkedin.com\n",
       "2      victoriassecret.com\n",
       "3     wholefoodsmarket.com\n",
       "4     procterandgamble.com\n",
       "5                apple.com\n",
       "6                eaton.com\n",
       "7              ucdavis.edu\n",
       "8        boringcompany.com\n",
       "9                tesla.com\n",
       "10           tiffanyco.com\n",
       "Name: Domain, dtype: object"
      ]
     },
     "execution_count": 431,
     "metadata": {},
     "output_type": "execute_result"
    }
   ],
   "source": [
    "#apply to df\n",
    "input_df[\"Domain\"] = input_df[\"company_name\"].apply(get_domain_name)\n",
    "input_df[\"Domain\"] "
   ]
  },
  {
   "cell_type": "code",
   "execution_count": 432,
   "metadata": {},
   "outputs": [],
   "source": [
    "input_df.to_csv(\"converted_to_domain.csv\", encoding='utf-8', index=False)"
   ]
  },
  {
   "cell_type": "code",
   "execution_count": 433,
   "metadata": {},
   "outputs": [
    {
     "data": {
      "text/plain": [
       "1.0"
      ]
     },
     "execution_count": 433,
     "metadata": {},
     "output_type": "execute_result"
    }
   ],
   "source": [
    "#Completion check \n",
    "incomplete_count = input_df[\"Domain\"][(input_df[\"Domain\"] == \"check name\") | (input_df[\"Domain\"] == \" \")].count()\n",
    "conversion_rate = (1-incomplete_count/len(input_df[\"company_name\"]))\n",
    "conversion_rate"
   ]
  },
  {
   "cell_type": "code",
   "execution_count": 434,
   "metadata": {},
   "outputs": [
    {
     "name": "stdout",
     "output_type": "stream",
     "text": [
      "Name check for these rows []\n",
      "---\n",
      "Some foreign or small companies might not be converted. Try to clean the company name to include no symbols or suffix in csv such as 'co' and run this program again\n"
     ]
    }
   ],
   "source": [
    "# incomplete index \n",
    "index = input_df[\"Domain\"][(input_df[\"Domain\"] == \"check name\") | (input_df[\"Domain\"] == \" \")].index.values\n",
    "print(f\"Name check for these rows {index}\")\n",
    "print(\"---\")\n",
    "print(\"Some foreign or small companies might not be converted. Try to clean the company name to include no symbols or suffix in csv such as 'co' and run this program again\")\n"
   ]
  },
  {
   "cell_type": "code",
   "execution_count": 435,
   "metadata": {},
   "outputs": [],
   "source": [
    "########### End ############"
   ]
  },
  {
   "cell_type": "code",
   "execution_count": null,
   "metadata": {},
   "outputs": [],
   "source": []
  },
  {
   "cell_type": "code",
   "execution_count": null,
   "metadata": {},
   "outputs": [],
   "source": []
  },
  {
   "cell_type": "code",
   "execution_count": 389,
   "metadata": {},
   "outputs": [
    {
     "data": {
      "text/plain": [
       "'boring company'"
      ]
     },
     "execution_count": 389,
     "metadata": {},
     "output_type": "execute_result"
    }
   ],
   "source": [
    "#testing\n",
    "name=input_df[\"company_name\"][9]\n",
    "name = re.sub(\"inc|INC|Inc|/.co|/.Co|LLP|llp|LLC|llc\", \"\", name.lower())\n",
    "name = re.sub(\"&\", \"and\", name.lower())\n",
    "name = re.sub(\"#|'|-|^|$|@|!|~|\\.|\\*\", \"\", name.lower())\n",
    "name"
   ]
  },
  {
   "cell_type": "code",
   "execution_count": 382,
   "metadata": {},
   "outputs": [
    {
     "data": {
      "text/plain": [
       "{'id': 'c2d53c8c-4603-4f91-b17a-b39b5024d63a',\n",
       " 'name': 'Tesla',\n",
       " 'legalName': 'Tesla, Inc.',\n",
       " 'domain': 'tesla.com',\n",
       " 'domainAliases': ['solarcity.com', 'tesla.lease'],\n",
       " 'site': {'phoneNumbers': ['+1 650-681-5000'],\n",
       "  'emailAddresses': ['press@tesla.com',\n",
       "   'eupress@tesla.com',\n",
       "   'APACPress@tesla.com',\n",
       "   'china-press@tesla.com',\n",
       "   'Press@tesla.com',\n",
       "   'EUPress@tesla.com',\n",
       "   'China-Press@tesla.com',\n",
       "   'DPO@tesla.com',\n",
       "   'privacy@tesla.com',\n",
       "   'ServiceHelpNA@tesla.com']},\n",
       " 'category': {'sector': 'Consumer Discretionary',\n",
       "  'industryGroup': 'Automobiles & Components',\n",
       "  'industry': 'Automotive',\n",
       "  'subIndustry': 'Automotive',\n",
       "  'sicCode': '37',\n",
       "  'naicsCode': '54'},\n",
       " 'tags': ['B2C', 'Automotive'],\n",
       " 'description': '1503251 Tesla, Inc. is an American automotive and energy company based in Palo Alto, California.',\n",
       " 'foundedYear': 2003,\n",
       " 'location': 'Tesla HQ, 3500 Deer Creek Rd, Palo Alto, CA 94304, USA',\n",
       " 'timeZone': 'America/Los_Angeles',\n",
       " 'utcOffset': -8,\n",
       " 'geo': {'streetNumber': '3500',\n",
       "  'streetName': 'Deer Creek Road',\n",
       "  'subPremise': None,\n",
       "  'city': 'Palo Alto',\n",
       "  'postalCode': '94304',\n",
       "  'state': 'California',\n",
       "  'stateCode': 'CA',\n",
       "  'country': 'United States',\n",
       "  'countryCode': 'US',\n",
       "  'lat': 37.3948376,\n",
       "  'lng': -122.1503889},\n",
       " 'logo': 'https://logo.clearbit.com/tesla.com',\n",
       " 'facebook': {'handle': None, 'likes': None},\n",
       " 'linkedin': {'handle': 'company/tesla-motors'},\n",
       " 'twitter': {'handle': 'Tesla',\n",
       "  'id': '13298072',\n",
       "  'bio': 'Electric cars, giant batteries and solar',\n",
       "  'followers': 3236618,\n",
       "  'following': 108,\n",
       "  'location': '',\n",
       "  'site': 'https://t.co/MxFwoUXrrG',\n",
       "  'avatar': 'https://pbs.twimg.com/profile_images/489192650474414080/4RxZxsud_normal.png'},\n",
       " 'crunchbase': {'handle': 'organization/tesla-motors'},\n",
       " 'emailProvider': False,\n",
       " 'type': 'public',\n",
       " 'ticker': 'TSLAN',\n",
       " 'identifiers': {'usEIN': '912197729'},\n",
       " 'phone': '+1 650-681-5000',\n",
       " 'metrics': {'alexaUsRank': 632,\n",
       "  'alexaGlobalRank': 2206,\n",
       "  'employees': 37543,\n",
       "  'employeesRange': '10K-50K',\n",
       "  'marketCap': 55330000000,\n",
       "  'raised': None,\n",
       "  'annualRevenue': 11758751000,\n",
       "  'estimatedAnnualRevenue': '$10B+',\n",
       "  'fiscalYearEnd': 12},\n",
       " 'indexedAt': '2019-01-10T01:33:40.995Z',\n",
       " 'tech': ['zendesk',\n",
       "  'google_tag_manager',\n",
       "  'microsoft_office_365',\n",
       "  'akamai_dns',\n",
       "  'microsoft_exchange_online',\n",
       "  'outlook',\n",
       "  'google_analytics',\n",
       "  'mailgun',\n",
       "  'vimeo',\n",
       "  'salesforce',\n",
       "  'amazon_ses',\n",
       "  'qualtrics',\n",
       "  'apache',\n",
       "  'adobe_experience_manager',\n",
       "  'drupal'],\n",
       " 'parent': {'domain': None}}"
      ]
     },
     "execution_count": 382,
     "metadata": {},
     "output_type": "execute_result"
    }
   ],
   "source": [
    "result = clearbit.Company.find(domain =name+'.com', stream=True)\n",
    "result"
   ]
  },
  {
   "cell_type": "code",
   "execution_count": null,
   "metadata": {},
   "outputs": [],
   "source": []
  }
 ],
 "metadata": {
  "kernelspec": {
   "display_name": "Python 3",
   "language": "python",
   "name": "python3"
  },
  "language_info": {
   "codemirror_mode": {
    "name": "ipython",
    "version": 3
   },
   "file_extension": ".py",
   "mimetype": "text/x-python",
   "name": "python",
   "nbconvert_exporter": "python",
   "pygments_lexer": "ipython3",
   "version": "3.7.0"
  }
 },
 "nbformat": 4,
 "nbformat_minor": 2
}
